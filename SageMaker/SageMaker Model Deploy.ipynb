{
 "cells": [
  {
   "cell_type": "markdown",
   "id": "01c53489",
   "metadata": {},
   "source": [
    "#### 필요 라이브러리 Import "
   ]
  },
  {
   "cell_type": "code",
   "execution_count": 1,
   "id": "8dc609f0",
   "metadata": {},
   "outputs": [
    {
     "name": "stderr",
     "output_type": "stream",
     "text": [
      "Matplotlib is building the font cache; this may take a moment.\n"
     ]
    }
   ],
   "source": [
    "import boto3, re, sys, math, json, os, sagemaker, urllib.request\n",
    "from sagemaker.amazon.amazon_estimator import get_image_uri\n",
    "from sagemaker import get_execution_role\n",
    "import numpy as np\n",
    "import pandas as pd\n",
    "import matplotlib.pyplot as plt\n",
    "from IPython.display import Image\n",
    "from IPython.display import display\n",
    "from time import gmtime, strftime\n",
    "from sagemaker.predictor import csv_serializer"
   ]
  },
  {
   "cell_type": "markdown",
   "id": "76381797",
   "metadata": {},
   "source": [
    "#### 사용자 역할(Role) 조회"
   ]
  },
  {
   "cell_type": "code",
   "execution_count": 2,
   "id": "1ec1cea3",
   "metadata": {},
   "outputs": [
    {
     "data": {
      "text/plain": [
       "'arn:aws:iam::860981721775:role/service-role/AmazonSageMaker-ExecutionRole-20220118T115216'"
      ]
     },
     "execution_count": 2,
     "metadata": {},
     "output_type": "execute_result"
    }
   ],
   "source": [
    "role = get_execution_role()\n",
    "\n",
    "role"
   ]
  },
  {
   "cell_type": "markdown",
   "id": "cefe95b6",
   "metadata": {},
   "source": [
    "#### 인스턴스 지역 조회"
   ]
  },
  {
   "cell_type": "code",
   "execution_count": 3,
   "id": "e67c80bd",
   "metadata": {},
   "outputs": [
    {
     "data": {
      "text/plain": [
       "'ap-northeast-1'"
      ]
     },
     "execution_count": 3,
     "metadata": {},
     "output_type": "execute_result"
    }
   ],
   "source": [
    "my_region = boto3.session.Session().region_name \n",
    "\n",
    "my_region"
   ]
  },
  {
   "cell_type": "raw",
   "id": "c0928298",
   "metadata": {},
   "source": [
    "'ap-northeast-2': 서울\n",
    "'ap-northeast-1': 도쿄"
   ]
  },
  {
   "cell_type": "markdown",
   "id": "56109887",
   "metadata": {},
   "source": [
    "#### image_uri 조회 "
   ]
  },
  {
   "cell_type": "code",
   "execution_count": 4,
   "id": "0a40a1a0",
   "metadata": {},
   "outputs": [
    {
     "name": "stderr",
     "output_type": "stream",
     "text": [
      "The method get_image_uri has been renamed in sagemaker>=2.\n",
      "See: https://sagemaker.readthedocs.io/en/stable/v2.html for details.\n"
     ]
    },
    {
     "data": {
      "text/plain": [
       "'354813040037.dkr.ecr.ap-northeast-1.amazonaws.com/sagemaker-xgboost:0.90-2-cpu-py3'"
      ]
     },
     "execution_count": 4,
     "metadata": {},
     "output_type": "execute_result"
    }
   ],
   "source": [
    "container = get_image_uri(my_region ,'xgboost',repo_version='0.90-2')\n",
    "\n",
    "container"
   ]
  },
  {
   "cell_type": "raw",
   "id": "1b83a5bd",
   "metadata": {},
   "source": [
    "0.90-2: 366743142698.dkr.ecr.ap-northeast-2.amazonaws.com/sagemaker-xgboost:0.90-2-cpu-py3\n",
    "1.2-2: 366743142698.dkr.ecr.ap-northeast-2.amazonaws.com/sagemaker-xgboost:1.2-2   -> model training 할 때 오류 발생 "
   ]
  },
  {
   "cell_type": "markdown",
   "id": "cca7e3d9",
   "metadata": {},
   "source": [
    "#### S3 Bucket 만들기"
   ]
  },
  {
   "cell_type": "code",
   "execution_count": null,
   "id": "27db5c6d",
   "metadata": {},
   "outputs": [],
   "source": [
    "prefix = 'sagemaker/DEMO-xgboost-dm'\n",
    "bucket_name = 'sagemaker-bucket-jaedong' \n",
    "\n",
    "s3 = boto3.resource('s3')\n",
    "\n",
    "try:\n",
    "    if my_region == 'us-east-1':\n",
    "        s3.create_bucket(Bucket=bucket_name)\n",
    "    else:\n",
    "        s3.create_bucket(Bucket=bucket_name, CreateBucketConfiguration={ 'LocationConstraint': my_region })\n",
    "        print('S3 bucket created successfully')\n",
    "except Exception as e:\n",
    "    print('S3 error: ',e)"
   ]
  },
  {
   "cell_type": "markdown",
   "id": "e3a9d2c8",
   "metadata": {},
   "source": [
    "#### Dataset 불러오기  "
   ]
  },
  {
   "cell_type": "code",
   "execution_count": 7,
   "id": "952da29e",
   "metadata": {},
   "outputs": [
    {
     "name": "stdout",
     "output_type": "stream",
     "text": [
      "Success: downloaded bank_clean.csv.\n",
      "Success: Data loaded into dataframe.\n"
     ]
    }
   ],
   "source": [
    "try:\n",
    "    urllib.request.urlretrieve (\"https://d1.awsstatic.com/tmt/build-train-deploy-machine-learning-model-sagemaker/bank_clean.27f01fbbdf43271788427f3682996ae29ceca05d.csv\", \"bank_clean.csv\")\n",
    "    print('Success: downloaded bank_clean.csv.')\n",
    "except Exception as e:\n",
    "    print('Data load error: ',e)\n",
    "\n",
    "try:\n",
    "    model_data = pd.read_csv('./bank_clean.csv',index_col=0)\n",
    "    print('Success: Data loaded into dataframe.')\n",
    "except Exception as e:\n",
    "    print('Data load error: ',e)"
   ]
  },
  {
   "cell_type": "markdown",
   "id": "7fd5eef9",
   "metadata": {},
   "source": [
    "#### 1) 불러온 Dataset 조회"
   ]
  },
  {
   "cell_type": "code",
   "execution_count": 8,
   "id": "2626029f",
   "metadata": {},
   "outputs": [
    {
     "data": {
      "text/html": [
       "<div>\n",
       "<style scoped>\n",
       "    .dataframe tbody tr th:only-of-type {\n",
       "        vertical-align: middle;\n",
       "    }\n",
       "\n",
       "    .dataframe tbody tr th {\n",
       "        vertical-align: top;\n",
       "    }\n",
       "\n",
       "    .dataframe thead th {\n",
       "        text-align: right;\n",
       "    }\n",
       "</style>\n",
       "<table border=\"1\" class=\"dataframe\">\n",
       "  <thead>\n",
       "    <tr style=\"text-align: right;\">\n",
       "      <th></th>\n",
       "      <th>age</th>\n",
       "      <th>campaign</th>\n",
       "      <th>pdays</th>\n",
       "      <th>previous</th>\n",
       "      <th>no_previous_contact</th>\n",
       "      <th>not_working</th>\n",
       "      <th>job_admin.</th>\n",
       "      <th>job_blue-collar</th>\n",
       "      <th>job_entrepreneur</th>\n",
       "      <th>job_housemaid</th>\n",
       "      <th>...</th>\n",
       "      <th>day_of_week_fri</th>\n",
       "      <th>day_of_week_mon</th>\n",
       "      <th>day_of_week_thu</th>\n",
       "      <th>day_of_week_tue</th>\n",
       "      <th>day_of_week_wed</th>\n",
       "      <th>poutcome_failure</th>\n",
       "      <th>poutcome_nonexistent</th>\n",
       "      <th>poutcome_success</th>\n",
       "      <th>y_no</th>\n",
       "      <th>y_yes</th>\n",
       "    </tr>\n",
       "  </thead>\n",
       "  <tbody>\n",
       "    <tr>\n",
       "      <th>0</th>\n",
       "      <td>56</td>\n",
       "      <td>1</td>\n",
       "      <td>999</td>\n",
       "      <td>0</td>\n",
       "      <td>1</td>\n",
       "      <td>0</td>\n",
       "      <td>0</td>\n",
       "      <td>0</td>\n",
       "      <td>0</td>\n",
       "      <td>1</td>\n",
       "      <td>...</td>\n",
       "      <td>0</td>\n",
       "      <td>1</td>\n",
       "      <td>0</td>\n",
       "      <td>0</td>\n",
       "      <td>0</td>\n",
       "      <td>0</td>\n",
       "      <td>1</td>\n",
       "      <td>0</td>\n",
       "      <td>1</td>\n",
       "      <td>0</td>\n",
       "    </tr>\n",
       "    <tr>\n",
       "      <th>1</th>\n",
       "      <td>57</td>\n",
       "      <td>1</td>\n",
       "      <td>999</td>\n",
       "      <td>0</td>\n",
       "      <td>1</td>\n",
       "      <td>0</td>\n",
       "      <td>0</td>\n",
       "      <td>0</td>\n",
       "      <td>0</td>\n",
       "      <td>0</td>\n",
       "      <td>...</td>\n",
       "      <td>0</td>\n",
       "      <td>1</td>\n",
       "      <td>0</td>\n",
       "      <td>0</td>\n",
       "      <td>0</td>\n",
       "      <td>0</td>\n",
       "      <td>1</td>\n",
       "      <td>0</td>\n",
       "      <td>1</td>\n",
       "      <td>0</td>\n",
       "    </tr>\n",
       "    <tr>\n",
       "      <th>2</th>\n",
       "      <td>37</td>\n",
       "      <td>1</td>\n",
       "      <td>999</td>\n",
       "      <td>0</td>\n",
       "      <td>1</td>\n",
       "      <td>0</td>\n",
       "      <td>0</td>\n",
       "      <td>0</td>\n",
       "      <td>0</td>\n",
       "      <td>0</td>\n",
       "      <td>...</td>\n",
       "      <td>0</td>\n",
       "      <td>1</td>\n",
       "      <td>0</td>\n",
       "      <td>0</td>\n",
       "      <td>0</td>\n",
       "      <td>0</td>\n",
       "      <td>1</td>\n",
       "      <td>0</td>\n",
       "      <td>1</td>\n",
       "      <td>0</td>\n",
       "    </tr>\n",
       "    <tr>\n",
       "      <th>3</th>\n",
       "      <td>40</td>\n",
       "      <td>1</td>\n",
       "      <td>999</td>\n",
       "      <td>0</td>\n",
       "      <td>1</td>\n",
       "      <td>0</td>\n",
       "      <td>1</td>\n",
       "      <td>0</td>\n",
       "      <td>0</td>\n",
       "      <td>0</td>\n",
       "      <td>...</td>\n",
       "      <td>0</td>\n",
       "      <td>1</td>\n",
       "      <td>0</td>\n",
       "      <td>0</td>\n",
       "      <td>0</td>\n",
       "      <td>0</td>\n",
       "      <td>1</td>\n",
       "      <td>0</td>\n",
       "      <td>1</td>\n",
       "      <td>0</td>\n",
       "    </tr>\n",
       "    <tr>\n",
       "      <th>4</th>\n",
       "      <td>56</td>\n",
       "      <td>1</td>\n",
       "      <td>999</td>\n",
       "      <td>0</td>\n",
       "      <td>1</td>\n",
       "      <td>0</td>\n",
       "      <td>0</td>\n",
       "      <td>0</td>\n",
       "      <td>0</td>\n",
       "      <td>0</td>\n",
       "      <td>...</td>\n",
       "      <td>0</td>\n",
       "      <td>1</td>\n",
       "      <td>0</td>\n",
       "      <td>0</td>\n",
       "      <td>0</td>\n",
       "      <td>0</td>\n",
       "      <td>1</td>\n",
       "      <td>0</td>\n",
       "      <td>1</td>\n",
       "      <td>0</td>\n",
       "    </tr>\n",
       "  </tbody>\n",
       "</table>\n",
       "<p>5 rows × 61 columns</p>\n",
       "</div>"
      ],
      "text/plain": [
       "   age  campaign  pdays  previous  no_previous_contact  not_working  \\\n",
       "0   56         1    999         0                    1            0   \n",
       "1   57         1    999         0                    1            0   \n",
       "2   37         1    999         0                    1            0   \n",
       "3   40         1    999         0                    1            0   \n",
       "4   56         1    999         0                    1            0   \n",
       "\n",
       "   job_admin.  job_blue-collar  job_entrepreneur  job_housemaid  ...  \\\n",
       "0           0                0                 0              1  ...   \n",
       "1           0                0                 0              0  ...   \n",
       "2           0                0                 0              0  ...   \n",
       "3           1                0                 0              0  ...   \n",
       "4           0                0                 0              0  ...   \n",
       "\n",
       "   day_of_week_fri  day_of_week_mon  day_of_week_thu  day_of_week_tue  \\\n",
       "0                0                1                0                0   \n",
       "1                0                1                0                0   \n",
       "2                0                1                0                0   \n",
       "3                0                1                0                0   \n",
       "4                0                1                0                0   \n",
       "\n",
       "   day_of_week_wed  poutcome_failure  poutcome_nonexistent  poutcome_success  \\\n",
       "0                0                 0                     1                 0   \n",
       "1                0                 0                     1                 0   \n",
       "2                0                 0                     1                 0   \n",
       "3                0                 0                     1                 0   \n",
       "4                0                 0                     1                 0   \n",
       "\n",
       "   y_no  y_yes  \n",
       "0     1      0  \n",
       "1     1      0  \n",
       "2     1      0  \n",
       "3     1      0  \n",
       "4     1      0  \n",
       "\n",
       "[5 rows x 61 columns]"
      ]
     },
     "execution_count": 8,
     "metadata": {},
     "output_type": "execute_result"
    }
   ],
   "source": [
    "model_data.head()"
   ]
  },
  {
   "cell_type": "markdown",
   "id": "dc97b23b",
   "metadata": {},
   "source": [
    "#### 2) Train, Test Dataset 분리 "
   ]
  },
  {
   "cell_type": "code",
   "execution_count": 9,
   "id": "75159f3b",
   "metadata": {},
   "outputs": [
    {
     "name": "stdout",
     "output_type": "stream",
     "text": [
      "(28831, 61) (12357, 61)\n"
     ]
    }
   ],
   "source": [
    "train_data, test_data = np.split(model_data.sample(frac=1, random_state=1729), [int(0.7 * len(model_data))])\n",
    "print(train_data.shape, test_data.shape)"
   ]
  },
  {
   "cell_type": "markdown",
   "id": "2aa3c142",
   "metadata": {},
   "source": [
    "- Train data"
   ]
  },
  {
   "cell_type": "code",
   "execution_count": 10,
   "id": "938defa2",
   "metadata": {},
   "outputs": [],
   "source": [
    "pd.concat([train_data['y_yes'], train_data.drop(['y_no', 'y_yes'], axis=1)], axis=1).to_csv('train.csv', index=False, header=False)\n",
    "boto3.Session().resource('s3').Bucket(bucket_name).Object(os.path.join(prefix, 'train/train.csv')).upload_file('train.csv')\n",
    "s3_input_train = sagemaker.inputs.TrainingInput(s3_data='s3://{}/{}/train'.format(bucket_name, prefix), content_type='csv')"
   ]
  },
  {
   "cell_type": "code",
   "execution_count": 11,
   "id": "346a5b58",
   "metadata": {},
   "outputs": [
    {
     "data": {
      "text/plain": [
       "<sagemaker.inputs.TrainingInput at 0x7ff0c5b108d0>"
      ]
     },
     "execution_count": 11,
     "metadata": {},
     "output_type": "execute_result"
    }
   ],
   "source": [
    "s3_input_train"
   ]
  },
  {
   "cell_type": "raw",
   "id": "22b6c010",
   "metadata": {},
   "source": [
    "- Test data  (임의 추가)  - 일단 실행 x "
   ]
  },
  {
   "cell_type": "raw",
   "id": "9fff7390",
   "metadata": {},
   "source": [
    "pd.concat([test_data['y_yes'], test_data.drop(['y_no', 'y_yes'], axis=1)], axis=1).to_csv('test.csv', index=False, header=False)   \n",
    "boto3.Session().resource('s3').Bucket(bucket_name).Object(os.path.join(prefix, 'test/test.csv')).upload_file('test.csv')\n",
    "s3_input_test = sagemaker.inputs.TrainingInput(s3_data='s3://{}/{}/test'.format(bucket_name, prefix), content_type='csv')"
   ]
  },
  {
   "cell_type": "markdown",
   "id": "afd9fae8",
   "metadata": {},
   "source": [
    "#### SageMaker 모델 생성 "
   ]
  },
  {
   "cell_type": "code",
   "execution_count": 12,
   "id": "940101e0",
   "metadata": {
    "scrolled": true
   },
   "outputs": [
    {
     "name": "stderr",
     "output_type": "stream",
     "text": [
      "train_instance_count has been renamed in sagemaker>=2.\n",
      "See: https://sagemaker.readthedocs.io/en/stable/v2.html for details.\n",
      "train_instance_type has been renamed in sagemaker>=2.\n",
      "See: https://sagemaker.readthedocs.io/en/stable/v2.html for details.\n"
     ]
    },
    {
     "name": "stdout",
     "output_type": "stream",
     "text": [
      "2022-01-22 07:19:58 Starting - Starting the training job...\n",
      "2022-01-22 07:20:23 Starting - Launching requested ML instancesProfilerReport-1642835998: InProgress\n",
      "......\n",
      "2022-01-22 07:21:23 Starting - Preparing the instances for training............\n",
      "2022-01-22 07:23:24 Downloading - Downloading input data...\n",
      "2022-01-22 07:23:59 Training - Training image download completed. Training in progress...\u001b[34mINFO:sagemaker-containers:Imported framework sagemaker_xgboost_container.training\u001b[0m\n",
      "\u001b[34mINFO:sagemaker-containers:Failed to parse hyperparameter objective value binary:logistic to Json.\u001b[0m\n",
      "\u001b[34mReturning the value itself\u001b[0m\n",
      "\u001b[34mINFO:sagemaker-containers:No GPUs detected (normal if no gpus installed)\u001b[0m\n",
      "\u001b[34mINFO:sagemaker_xgboost_container.training:Running XGBoost Sagemaker in algorithm mode\u001b[0m\n",
      "\u001b[34mINFO:root:Determined delimiter of CSV input is ','\u001b[0m\n",
      "\u001b[34mINFO:root:Determined delimiter of CSV input is ','\u001b[0m\n",
      "\u001b[34m[07:24:01] 28831x59 matrix with 1701029 entries loaded from /opt/ml/input/data/train?format=csv&label_column=0&delimiter=,\u001b[0m\n",
      "\u001b[34mINFO:root:Single node training.\u001b[0m\n",
      "\u001b[34mINFO:root:Train matrix has 28831 rows\u001b[0m\n",
      "\u001b[34m[0]#011train-error:0.100968\u001b[0m\n",
      "\u001b[34m[1]#011train-error:0.100066\u001b[0m\n",
      "\u001b[34m[2]#011train-error:0.098783\u001b[0m\n",
      "\u001b[34m[3]#011train-error:0.099268\u001b[0m\n",
      "\u001b[34m[4]#011train-error:0.098852\u001b[0m\n",
      "\u001b[34m[5]#011train-error:0.099233\u001b[0m\n",
      "\u001b[34m[6]#011train-error:0.099372\u001b[0m\n",
      "\u001b[34m[7]#011train-error:0.099476\u001b[0m\n",
      "\u001b[34m[8]#011train-error:0.099233\u001b[0m\n",
      "\u001b[34m[9]#011train-error:0.099233\u001b[0m\n",
      "\u001b[34m[10]#011train-error:0.098748\u001b[0m\n",
      "\u001b[34m[11]#011train-error:0.098436\u001b[0m\n",
      "\u001b[34m[12]#011train-error:0.098574\u001b[0m\n",
      "\u001b[34m[13]#011train-error:0.098089\u001b[0m\n",
      "\u001b[34m[14]#011train-error:0.098124\u001b[0m\n",
      "\u001b[34m[15]#011train-error:0.098193\u001b[0m\n",
      "\u001b[34m[16]#011train-error:0.098158\u001b[0m\n",
      "\u001b[34m[17]#011train-error:0.098158\u001b[0m\n",
      "\u001b[34m[18]#011train-error:0.098193\u001b[0m\n",
      "\u001b[34m[19]#011train-error:0.098297\u001b[0m\n",
      "\u001b[34m[20]#011train-error:0.098366\u001b[0m\n",
      "\u001b[34m[21]#011train-error:0.097881\u001b[0m\n",
      "\u001b[34m[22]#011train-error:0.098124\u001b[0m\n",
      "\u001b[34m[23]#011train-error:0.097638\u001b[0m\n",
      "\u001b[34m[24]#011train-error:0.097777\u001b[0m\n",
      "\u001b[34m[25]#011train-error:0.097603\u001b[0m\n",
      "\u001b[34m[26]#011train-error:0.097846\u001b[0m\n",
      "\u001b[34m[27]#011train-error:0.097673\u001b[0m\n",
      "\u001b[34m[28]#011train-error:0.097707\u001b[0m\n",
      "\u001b[34m[29]#011train-error:0.097811\u001b[0m\n",
      "\u001b[34m[30]#011train-error:0.097707\u001b[0m\n",
      "\u001b[34m[31]#011train-error:0.097673\u001b[0m\n",
      "\u001b[34m[32]#011train-error:0.097326\u001b[0m\n",
      "\u001b[34m[33]#011train-error:0.097222\u001b[0m\n",
      "\u001b[34m[34]#011train-error:0.097014\u001b[0m\n",
      "\u001b[34m[35]#011train-error:0.096979\u001b[0m\n",
      "\u001b[34m[36]#011train-error:0.096701\u001b[0m\n",
      "\u001b[34m[37]#011train-error:0.096563\u001b[0m\n",
      "\u001b[34m[38]#011train-error:0.096667\u001b[0m\n",
      "\u001b[34m[39]#011train-error:0.096459\u001b[0m\n",
      "\u001b[34m[40]#011train-error:0.096563\u001b[0m\n",
      "\u001b[34m[41]#011train-error:0.096701\u001b[0m\n",
      "\u001b[34m[42]#011train-error:0.096563\u001b[0m\n",
      "\u001b[34m[43]#011train-error:0.096667\u001b[0m\n",
      "\u001b[34m[44]#011train-error:0.096424\u001b[0m\n",
      "\u001b[34m[45]#011train-error:0.096112\u001b[0m\n",
      "\u001b[34m[46]#011train-error:0.096251\u001b[0m\n",
      "\u001b[34m[47]#011train-error:0.096216\u001b[0m\n",
      "\u001b[34m[48]#011train-error:0.09632\u001b[0m\n",
      "\u001b[34m[49]#011train-error:0.09632\u001b[0m\n",
      "\u001b[34m[50]#011train-error:0.096285\u001b[0m\n",
      "\u001b[34m[51]#011train-error:0.096216\u001b[0m\n",
      "\u001b[34m[52]#011train-error:0.096112\u001b[0m\n",
      "\u001b[34m[53]#011train-error:0.096077\u001b[0m\n",
      "\u001b[34m[54]#011train-error:0.096181\u001b[0m\n",
      "\u001b[34m[55]#011train-error:0.096008\u001b[0m\n",
      "\u001b[34m[56]#011train-error:0.096008\u001b[0m\n",
      "\u001b[34m[57]#011train-error:0.096077\u001b[0m\n",
      "\u001b[34m[58]#011train-error:0.096042\u001b[0m\n",
      "\u001b[34m[59]#011train-error:0.096112\u001b[0m\n",
      "\u001b[34m[60]#011train-error:0.095973\u001b[0m\n",
      "\u001b[34m[61]#011train-error:0.0958\u001b[0m\n",
      "\u001b[34m[62]#011train-error:0.095869\u001b[0m\n",
      "\u001b[34m[63]#011train-error:0.095904\u001b[0m\n",
      "\u001b[34m[64]#011train-error:0.0958\u001b[0m\n",
      "\u001b[34m[65]#011train-error:0.095834\u001b[0m\n",
      "\u001b[34m[66]#011train-error:0.096008\u001b[0m\n",
      "\u001b[34m[67]#011train-error:0.0958\u001b[0m\n",
      "\u001b[34m[68]#011train-error:0.0958\u001b[0m\n",
      "\u001b[34m[69]#011train-error:0.09573\u001b[0m\n",
      "\u001b[34m[70]#011train-error:0.0958\u001b[0m\n",
      "\u001b[34m[71]#011train-error:0.095869\u001b[0m\n",
      "\u001b[34m[72]#011train-error:0.0958\u001b[0m\n",
      "\u001b[34m[73]#011train-error:0.095696\u001b[0m\n",
      "\u001b[34m[74]#011train-error:0.095765\u001b[0m\n",
      "\u001b[34m[75]#011train-error:0.095661\u001b[0m\n",
      "\u001b[34m[76]#011train-error:0.095973\u001b[0m\n",
      "\u001b[34m[77]#011train-error:0.095938\u001b[0m\n",
      "\u001b[34m[78]#011train-error:0.095834\u001b[0m\n",
      "\u001b[34m[79]#011train-error:0.0958\u001b[0m\n",
      "\u001b[34m[80]#011train-error:0.09573\u001b[0m\n",
      "\u001b[34m[81]#011train-error:0.095626\u001b[0m\n",
      "\u001b[34m[82]#011train-error:0.095626\u001b[0m\n",
      "\u001b[34m[83]#011train-error:0.095626\u001b[0m\n",
      "\u001b[34m[84]#011train-error:0.095904\u001b[0m\n",
      "\u001b[34m[85]#011train-error:0.0958\u001b[0m\n",
      "\u001b[34m[86]#011train-error:0.0958\u001b[0m\n",
      "\u001b[34m[87]#011train-error:0.095626\u001b[0m\n",
      "\u001b[34m[88]#011train-error:0.095626\u001b[0m\n",
      "\u001b[34m[89]#011train-error:0.095626\u001b[0m\n",
      "\u001b[34m[90]#011train-error:0.095383\u001b[0m\n",
      "\u001b[34m[91]#011train-error:0.095349\u001b[0m\n",
      "\u001b[34m[92]#011train-error:0.095349\u001b[0m\n",
      "\u001b[34m[93]#011train-error:0.095522\u001b[0m\n",
      "\u001b[34m[94]#011train-error:0.095279\u001b[0m\n",
      "\u001b[34m[95]#011train-error:0.095314\u001b[0m\n",
      "\u001b[34m[96]#011train-error:0.094933\u001b[0m\n",
      "\u001b[34m[97]#011train-error:0.095002\u001b[0m\n",
      "\u001b[34m[98]#011train-error:0.095106\u001b[0m\n",
      "\u001b[34m[99]#011train-error:0.095175\u001b[0m\n",
      "\n",
      "2022-01-22 07:24:24 Uploading - Uploading generated training model\n",
      "2022-01-22 07:24:24 Completed - Training job completed\n",
      "Training seconds: 77\n",
      "Billable seconds: 77\n"
     ]
    }
   ],
   "source": [
    "sess = sagemaker.Session()\n",
    "xgb = sagemaker.estimator.Estimator(container, role, train_instance_count=1, train_instance_type='ml.m5.large',output_path='s3://{}/{}/output'.format(bucket_name, prefix),sagemaker_session=sess)\n",
    "xgb.set_hyperparameters(max_depth=5,eta=0.2,gamma=4,min_child_weight=6,subsample=0.8,silent=0,objective='binary:logistic',num_round=100)\n",
    "xgb.fit({'train': s3_input_train})"
   ]
  },
  {
   "cell_type": "raw",
   "id": "93fef4fc",
   "metadata": {},
   "source": [
    "ml.t2.medium으로 train_instance_type을 변경하고 실행하면 제약조건 위배된다고 실행되지 x "
   ]
  },
  {
   "cell_type": "markdown",
   "id": "de37ac16",
   "metadata": {},
   "source": [
    "#### 생성한 모델 (Pretrained Model) 배포"
   ]
  },
  {
   "cell_type": "code",
   "execution_count": 13,
   "id": "89d20add",
   "metadata": {},
   "outputs": [
    {
     "name": "stdout",
     "output_type": "stream",
     "text": [
      "------!"
     ]
    }
   ],
   "source": [
    "xgb_predictor = xgb.deploy(initial_instance_count=1,instance_type='ml.m4.xlarge', endpoint_name='jaedong-endpoint')"
   ]
  },
  {
   "cell_type": "markdown",
   "id": "8fa0a259",
   "metadata": {},
   "source": [
    "#### 생성한 모델의 키 값 조회 "
   ]
  },
  {
   "cell_type": "code",
   "execution_count": 14,
   "id": "2da98241",
   "metadata": {},
   "outputs": [
    {
     "data": {
      "text/plain": [
       "dict_keys(['endpoint_name', 'sagemaker_session', 'serializer', 'deserializer', '_endpoint_config_name', '_model_names', '_context'])"
      ]
     },
     "execution_count": 14,
     "metadata": {},
     "output_type": "execute_result"
    }
   ],
   "source": [
    "xgb_predictor.__dict__.keys()"
   ]
  },
  {
   "cell_type": "markdown",
   "id": "72b5470c",
   "metadata": {},
   "source": [
    "#### 모델 테스트 "
   ]
  },
  {
   "cell_type": "markdown",
   "id": "0199a37c",
   "metadata": {},
   "source": [
    "1) 테스트 데이터 전처리 "
   ]
  },
  {
   "cell_type": "code",
   "execution_count": 15,
   "id": "26783214",
   "metadata": {},
   "outputs": [],
   "source": [
    "test_data_array = test_data.drop(['y_no', 'y_yes'], axis=1).values"
   ]
  },
  {
   "cell_type": "markdown",
   "id": "8c220338",
   "metadata": {},
   "source": [
    "2) serializer type 설정 "
   ]
  },
  {
   "cell_type": "code",
   "execution_count": 16,
   "id": "c2bde4c6",
   "metadata": {},
   "outputs": [],
   "source": [
    "xgb_predictor.serializer = csv_serializer # set the serializer type"
   ]
  },
  {
   "cell_type": "markdown",
   "id": "e0773c61",
   "metadata": {},
   "source": [
    "3) 모델 예측 수행 "
   ]
  },
  {
   "cell_type": "code",
   "execution_count": 17,
   "id": "922ebaca",
   "metadata": {},
   "outputs": [
    {
     "name": "stderr",
     "output_type": "stream",
     "text": [
      "The csv_serializer has been renamed in sagemaker>=2.\n",
      "See: https://sagemaker.readthedocs.io/en/stable/v2.html for details.\n"
     ]
    },
    {
     "name": "stdout",
     "output_type": "stream",
     "text": [
      "(12357,)\n"
     ]
    }
   ],
   "source": [
    "predictions = xgb_predictor.predict(test_data_array).decode('utf-8') # predict!\n",
    "predictions_array = np.fromstring(predictions[1:], sep=',') # and turn the prediction into an array\n",
    "print(predictions_array.shape)"
   ]
  },
  {
   "cell_type": "markdown",
   "id": "67339422",
   "metadata": {},
   "source": [
    "4) 정확도 검증 "
   ]
  },
  {
   "cell_type": "code",
   "execution_count": 18,
   "id": "02d963b9",
   "metadata": {},
   "outputs": [
    {
     "name": "stdout",
     "output_type": "stream",
     "text": [
      "\n",
      "Overall Classification Rate: 89.4%\n",
      "\n",
      "Predicted      No Purchase    Purchase\n",
      "Observed\n",
      "No Purchase    90% (10766)    38% (170)\n",
      "Purchase        10% (1139)     62% (282) \n",
      "\n"
     ]
    }
   ],
   "source": [
    "cm = pd.crosstab(index=test_data['y_yes'], columns=np.round(predictions_array), rownames=['Observed'], colnames=['Predicted'])\n",
    "tn = cm.iloc[0,0]; fn = cm.iloc[1,0]; tp = cm.iloc[1,1]; fp = cm.iloc[0,1]; p = (tp+tn)/(tp+tn+fp+fn)*100\n",
    "print(\"\\n{0:<20}{1:<4.1f}%\\n\".format(\"Overall Classification Rate: \", p))\n",
    "print(\"{0:<15}{1:<15}{2:>8}\".format(\"Predicted\", \"No Purchase\", \"Purchase\"))\n",
    "print(\"Observed\")\n",
    "print(\"{0:<15}{1:<2.0f}% ({2:<}){3:>6.0f}% ({4:<})\".format(\"No Purchase\", tn/(tn+fn)*100,tn, fp/(tp+fp)*100, fp))\n",
    "print(\"{0:<16}{1:<1.0f}% ({2:<}){3:>7.0f}% ({4:<}) \\n\".format(\"Purchase\", fn/(tn+fn)*100,fn, tp/(tp+fp)*100, tp))"
   ]
  },
  {
   "cell_type": "markdown",
   "id": "6934cd19",
   "metadata": {},
   "source": [
    "#### 객체 삭제 "
   ]
  },
  {
   "cell_type": "code",
   "execution_count": null,
   "id": "1ca03099",
   "metadata": {},
   "outputs": [],
   "source": [
    "sagemaker.Session().delete_endpoint(xgb_predictor.endpoint)\n",
    "bucket_to_delete = boto3.resource('s3').Bucket(bucket_name)\n",
    "bucket_to_delete.objects.all().delete()"
   ]
  },
  {
   "cell_type": "code",
   "execution_count": null,
   "id": "06d205c9",
   "metadata": {},
   "outputs": [],
   "source": []
  },
  {
   "cell_type": "code",
   "execution_count": null,
   "id": "8efc5176",
   "metadata": {},
   "outputs": [],
   "source": []
  },
  {
   "cell_type": "code",
   "execution_count": null,
   "id": "fb5078c4",
   "metadata": {},
   "outputs": [],
   "source": []
  }
 ],
 "metadata": {
  "kernelspec": {
   "display_name": "conda_python3",
   "language": "python",
   "name": "conda_python3"
  },
  "language_info": {
   "codemirror_mode": {
    "name": "ipython",
    "version": 3
   },
   "file_extension": ".py",
   "mimetype": "text/x-python",
   "name": "python",
   "nbconvert_exporter": "python",
   "pygments_lexer": "ipython3",
   "version": "3.6.13"
  }
 },
 "nbformat": 4,
 "nbformat_minor": 5
}
